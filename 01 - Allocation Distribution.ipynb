{
 "cells": [
  {
   "cell_type": "markdown",
   "metadata": {},
   "source": [
    "# Portfolio Asset Allocation Distribution"
   ]
  },
  {
   "cell_type": "code",
   "execution_count": 1,
   "metadata": {},
   "outputs": [],
   "source": [
    "# Change this\n",
    "portfolio_tot = 0.61"
   ]
  },
  {
   "cell_type": "markdown",
   "metadata": {},
   "source": [
    "## Allocation Distribution Selection"
   ]
  },
  {
   "cell_type": "markdown",
   "metadata": {},
   "source": [
    "### Heuristics"
   ]
  },
  {
   "cell_type": "code",
   "execution_count": 2,
   "metadata": {},
   "outputs": [
    {
     "name": "stdout",
     "output_type": "stream",
     "text": [
      "\n",
      "=== === ===\n",
      "\n",
      "\"Stocks 100 - age\":\n",
      "stocks: 74%\n",
      "\n",
      "=== === ===\n",
      "\n",
      "\"Bonds in age\":\n",
      "bonds: 26%\n",
      "\n",
      "=== === ===\n",
      "\n",
      "\"Over 50, 50% stocks\":\n",
      "stocks: 50%\n",
      "\n",
      "=== === ===\n",
      "\n",
      "\"Stocks 120 - age\":\n",
      "stocks: 94%\n",
      "\n",
      "=== === ===\n",
      "\n",
      "\"60/40 Split\":\n",
      "stocks: 60%\n",
      "bonds: 40\n"
     ]
    }
   ],
   "source": [
    "# Heuristics\n",
    "\n",
    "# Set Age Here\n",
    "age = 26\n",
    "\n",
    "# Stocks\n",
    "stocks = 100 - age\n",
    "print(f'\\n=== === ===\\n\\n\"Stocks 100 - age\":\\nstocks: {stocks}%')\n",
    "\n",
    "# \"Bonds in age\"\n",
    "bonds = age\n",
    "print(f'\\n=== === ===\\n\\n\"Bonds in age\":\\nbonds: {bonds}%')\n",
    "\n",
    "# 15/50 Rule \n",
    "stocks = 50\n",
    "print(f'\\n=== === ===\\n\\n\"Over 50, 50% stocks\":\\nstocks: {stocks}%')\n",
    "\n",
    "# 120 Minus Age in Equities\n",
    "stocks = 120 - age\n",
    "print(f'\\n=== === ===\\n\\n\"Stocks 120 - age\":\\nstocks: {stocks}%')\n",
    "\n",
    "# 60/40 Split\n",
    "stocks = 60\n",
    "bonds = 40\n",
    "print(f'\\n=== === ===\\n\\n\"60/40 Split\":\\nstocks: {stocks}%\\nbonds: {bonds}')"
   ]
  },
  {
   "cell_type": "markdown",
   "metadata": {},
   "source": [
    "### Distribution Selection"
   ]
  },
  {
   "cell_type": "code",
   "execution_count": 3,
   "metadata": {},
   "outputs": [
    {
     "name": "stdout",
     "output_type": "stream",
     "text": [
      "sum: 1.0\n"
     ]
    }
   ],
   "source": [
    "distribution = {\n",
    "    \"conservative\": {\n",
    "        \"cash\": 0.15,\n",
    "        \"bonds\": 0.40,\n",
    "        \"stocks\": 0.45\n",
    "    },\n",
    "    \"conservative-moderate\": {\n",
    "        \"cash\": 0.10,\n",
    "        \"bonds\": 0.35,\n",
    "        \"stocks\": 0.55\n",
    "    },\n",
    "    \"moderate\": {\n",
    "        \"cash\": 0.05,\n",
    "        \"bonds\": 0.30,\n",
    "        \"stocks\": 0.65\n",
    "    },\n",
    "    \"Zak\": {\n",
    "        \"cash\": 0.05,\n",
    "        \"bonds\": 0.35,\n",
    "        \"stocks\": 0.60\n",
    "    }\n",
    "}\n",
    "\n",
    "# Make sure we add to 100%\n",
    "sum = 0\n",
    "for key, value in distribution[\"conservative-moderate\"].items():\n",
    "    sum += value\n",
    "print(f'sum: {sum}')\n",
    "\n",
    "# Select Distribution\n",
    "distribution[\"selected\"] = distribution[\"Zak\"]"
   ]
  },
  {
   "cell_type": "markdown",
   "metadata": {},
   "source": [
    "### See plot"
   ]
  },
  {
   "cell_type": "code",
   "execution_count": 17,
   "metadata": {},
   "outputs": [
    {
     "name": "stdout",
     "output_type": "stream",
     "text": [
      "\n"
     ]
    },
    {
     "data": {
      "image/png": "[encoded data removed]",
      "text/plain": [
       "<Figure size 640x480 with 1 Axes>"
      ]
     },
     "metadata": {},
     "output_type": "display_data"
    }
   ],
   "source": [
    "import matplotlib.pyplot as plt\n",
    "import seaborn as sns\n",
    "\n",
    "# Data to plot\n",
    "labels = []\n",
    "allocation = []\n",
    "\n",
    "distribution_dictionary = distribution[\"selected\"]\n",
    "\n",
    "for asset, percentage in distribution_dictionary.items():\n",
    "    labels.append(asset)\n",
    "    allocation.append(percentage)\n",
    "\n",
    "# Plot\n",
    "#  colourscheme\n",
    "colours = sns.color_palette('rocket') # 'cubehelix' is also a good value.\n",
    "#  Make the plot\n",
    "_,_, autotexts = plt.pie(allocation, labels=labels, autopct='%1.0f%%', colors=colours)\n",
    "#  Set percentage colour to white\n",
    "for autotext in autotexts:\n",
    "    autotext.set_color('white')\n",
    "\n",
    "print()"
   ]
  },
  {
   "cell_type": "markdown",
   "metadata": {},
   "source": [
    "### Distribution Values (£)"
   ]
  },
  {
   "cell_type": "code",
   "execution_count": 18,
   "metadata": {},
   "outputs": [
    {
     "name": "stdout",
     "output_type": "stream",
     "text": [
      "cash: 0.0305\n",
      "bonds: 0.2135\n",
      "stocks: 0.366\n",
      "===\n",
      "\n",
      "portfolio total: 0.61\n"
     ]
    }
   ],
   "source": [
    "# Give totals\n",
    "# You can use these values in 02\n",
    "for key, percentage_value in distribution[\"selected\"].items():\n",
    "    print(f'{key}: {portfolio_tot*percentage_value}')\n",
    "\n",
    "print('===')\n",
    "print(f'\\nportfolio total: {portfolio_tot}') # Copy cell output into next notebook."
   ]
  }
 ],
 "metadata": {
  "kernelspec": {
   "display_name": "Python 3",
   "language": "python",
   "name": "python3"
  },
  "language_info": {
   "codemirror_mode": {
    "name": "ipython",
    "version": 3
   },
   "file_extension": ".py",
   "mimetype": "text/x-python",
   "name": "python",
   "nbconvert_exporter": "python",
   "pygments_lexer": "ipython3",
   "version": "3.10.13"
  }
 },
 "nbformat": 4,
 "nbformat_minor": 2
}
